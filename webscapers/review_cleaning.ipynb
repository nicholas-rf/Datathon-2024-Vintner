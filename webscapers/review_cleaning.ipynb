{
 "cells": [
  {
   "cell_type": "code",
   "execution_count": 3,
   "metadata": {},
   "outputs": [],
   "source": [
    "import pandas as pd\n",
    "from googletrans import Translator\n",
    "  \n"
   ]
  },
  {
   "cell_type": "code",
   "execution_count": 4,
   "metadata": {},
   "outputs": [],
   "source": [
    "text = \"это компьютерный портал для гиков. It was a beautiful day .\"\n",
    "translator = Translator()\n",
    "spam = translator.detect(\"Hello\")\n"
   ]
  },
  {
   "cell_type": "code",
   "execution_count": 5,
   "metadata": {},
   "outputs": [
    {
     "name": "stdout",
     "output_type": "stream",
     "text": [
      "   vintage_id                                             review  year  \\\n",
      "0   150301706  Ничего особого в нем не нашел. В меру сухое, в...   NaN   \n",
      "1   159555436                                                NaN   NaN   \n",
      "2   146958680                                                NaN   NaN   \n",
      "3     2014691  3,3/5. Белая Риоха. Бленд на основе виуры (75%...   NaN   \n",
      "4   153305559                              Parfum! Super frumos!   NaN   \n",
      "\n",
      "   wine_alcohol country region  price  rating grape  \n",
      "0           NaN     NaN    NaN    NaN     NaN   NaN  \n",
      "1           NaN     NaN    NaN    NaN     NaN   NaN  \n",
      "2           NaN     NaN    NaN    NaN     NaN   NaN  \n",
      "3           NaN     NaN    NaN    NaN     NaN   NaN  \n",
      "4           NaN     NaN    NaN    NaN     NaN   NaN  \n"
     ]
    }
   ],
   "source": [
    "reviews = pd.read_csv(\"reviews.csv\")\n",
    "print(reviews.head())"
   ]
  },
  {
   "cell_type": "code",
   "execution_count": 7,
   "metadata": {},
   "outputs": [
    {
     "name": "stderr",
     "output_type": "stream",
     "text": [
      "C:\\Users\\cobyw\\AppData\\Local\\Temp\\ipykernel_11360\\1299590380.py:2: UserWarning: Boolean Series key will be reindexed to match DataFrame index.\n",
      "  reviews_clean = reviews_clean[reviews[\"grape\"].isnull() == False]\n"
     ]
    }
   ],
   "source": [
    "reviews_clean = reviews[reviews[\"review\"].isnull() == False]\n",
    "reviews_clean = reviews_clean[reviews[\"grape\"].isnull() == False]\n",
    "\n",
    "reviews_clean = reviews_clean.sample(n=1000)"
   ]
  },
  {
   "cell_type": "code",
   "execution_count": 9,
   "metadata": {},
   "outputs": [
    {
     "data": {
      "text/html": [
       "<div>\n",
       "<style scoped>\n",
       "    .dataframe tbody tr th:only-of-type {\n",
       "        vertical-align: middle;\n",
       "    }\n",
       "\n",
       "    .dataframe tbody tr th {\n",
       "        vertical-align: top;\n",
       "    }\n",
       "\n",
       "    .dataframe thead th {\n",
       "        text-align: right;\n",
       "    }\n",
       "</style>\n",
       "<table border=\"1\" class=\"dataframe\">\n",
       "  <thead>\n",
       "    <tr style=\"text-align: right;\">\n",
       "      <th></th>\n",
       "      <th>vintage_id</th>\n",
       "      <th>review</th>\n",
       "      <th>year</th>\n",
       "      <th>wine_alcohol</th>\n",
       "      <th>country</th>\n",
       "      <th>region</th>\n",
       "      <th>price</th>\n",
       "      <th>rating</th>\n",
       "      <th>grape</th>\n",
       "    </tr>\n",
       "  </thead>\n",
       "  <tbody>\n",
       "    <tr>\n",
       "      <th>969554</th>\n",
       "      <td>1469676</td>\n",
       "      <td>Chocolate, cinnamon and dark fruits on the nos...</td>\n",
       "      <td>2018.0</td>\n",
       "      <td>NaN</td>\n",
       "      <td>Italy</td>\n",
       "      <td>Abruzzo</td>\n",
       "      <td>22.26</td>\n",
       "      <td>4.3</td>\n",
       "      <td>Sangiovese</td>\n",
       "    </tr>\n",
       "    <tr>\n",
       "      <th>984341</th>\n",
       "      <td>142319633</td>\n",
       "      <td>2 hours decant open it up. A well made Merlot ...</td>\n",
       "      <td>2015.0</td>\n",
       "      <td>14.0</td>\n",
       "      <td>Italy</td>\n",
       "      <td>Costa Toscana</td>\n",
       "      <td>20.86</td>\n",
       "      <td>4.2</td>\n",
       "      <td>Merlot</td>\n",
       "    </tr>\n",
       "    <tr>\n",
       "      <th>988235</th>\n",
       "      <td>151190509</td>\n",
       "      <td>Nice fruity nose. Dark berries, cherries, plum...</td>\n",
       "      <td>2017.0</td>\n",
       "      <td>16.0</td>\n",
       "      <td>Italy</td>\n",
       "      <td>Toscana</td>\n",
       "      <td>37.35</td>\n",
       "      <td>3.9</td>\n",
       "      <td>Sangiovese</td>\n",
       "    </tr>\n",
       "    <tr>\n",
       "      <th>996330</th>\n",
       "      <td>156848268</td>\n",
       "      <td>Perfect for evening movie, small talks and che...</td>\n",
       "      <td>2019.0</td>\n",
       "      <td>13.5</td>\n",
       "      <td>Spain</td>\n",
       "      <td>Vino de España</td>\n",
       "      <td>13.72</td>\n",
       "      <td>4.2</td>\n",
       "      <td>Shiraz/Syrah</td>\n",
       "    </tr>\n",
       "    <tr>\n",
       "      <th>971490</th>\n",
       "      <td>1469676</td>\n",
       "      <td>Extremely good wine for this price. Highly rec...</td>\n",
       "      <td>2018.0</td>\n",
       "      <td>NaN</td>\n",
       "      <td>Italy</td>\n",
       "      <td>Abruzzo</td>\n",
       "      <td>22.26</td>\n",
       "      <td>4.3</td>\n",
       "      <td>Sangiovese</td>\n",
       "    </tr>\n",
       "  </tbody>\n",
       "</table>\n",
       "</div>"
      ],
      "text/plain": [
       "        vintage_id                                             review    year  \\\n",
       "969554     1469676  Chocolate, cinnamon and dark fruits on the nos...  2018.0   \n",
       "984341   142319633  2 hours decant open it up. A well made Merlot ...  2015.0   \n",
       "988235   151190509  Nice fruity nose. Dark berries, cherries, plum...  2017.0   \n",
       "996330   156848268  Perfect for evening movie, small talks and che...  2019.0   \n",
       "971490     1469676  Extremely good wine for this price. Highly rec...  2018.0   \n",
       "\n",
       "        wine_alcohol country           region  price  rating         grape  \n",
       "969554           NaN   Italy          Abruzzo  22.26     4.3    Sangiovese  \n",
       "984341          14.0   Italy    Costa Toscana  20.86     4.2        Merlot  \n",
       "988235          16.0   Italy          Toscana  37.35     3.9    Sangiovese  \n",
       "996330          13.5   Spain   Vino de España  13.72     4.2  Shiraz/Syrah  \n",
       "971490           NaN   Italy          Abruzzo  22.26     4.3    Sangiovese  "
      ]
     },
     "execution_count": 9,
     "metadata": {},
     "output_type": "execute_result"
    }
   ],
   "source": [
    "reviews_clean.head()"
   ]
  },
  {
   "cell_type": "code",
   "execution_count": 10,
   "metadata": {},
   "outputs": [
    {
     "name": "stdout",
     "output_type": "stream",
     "text": [
      "        vintage_id                                             review    year  \\\n",
      "969554     1469676  Chocolate, cinnamon and dark fruits on the nos...  2018.0   \n",
      "984341   142319633  2 hours decant open it up. A well made Merlot ...  2015.0   \n",
      "988235   151190509  Nice fruity nose. Dark berries, cherries, plum...  2017.0   \n",
      "996330   156848268  Perfect for evening movie, small talks and che...  2019.0   \n",
      "971490     1469676  Extremely good wine for this price. Highly rec...  2018.0   \n",
      "\n",
      "        wine_alcohol country           region  price  rating         grape  \n",
      "969554           NaN   Italy          Abruzzo  22.26     4.3    Sangiovese  \n",
      "984341          14.0   Italy    Costa Toscana  20.86     4.2        Merlot  \n",
      "988235          16.0   Italy          Toscana  37.35     3.9    Sangiovese  \n",
      "996330          13.5   Spain   Vino de España  13.72     4.2  Shiraz/Syrah  \n",
      "971490           NaN   Italy          Abruzzo  22.26     4.3    Sangiovese  \n"
     ]
    }
   ],
   "source": [
    "def detect_lang(text):\n",
    "\n",
    "    lang_object = translator.detect(text)\n",
    "    if lang_object.lang == 'en':\n",
    "        return text\n",
    "    else:\n",
    "        return None\n",
    "\n",
    "reviews_clean['review'] = reviews_clean['review'].apply(detect_lang)\n",
    "print(reviews_clean.head())\n",
    "\n"
   ]
  },
  {
   "cell_type": "code",
   "execution_count": 11,
   "metadata": {},
   "outputs": [
    {
     "data": {
      "text/plain": [
       "vintage_id      1000\n",
       "review           973\n",
       "year            1000\n",
       "wine_alcohol     512\n",
       "country         1000\n",
       "region          1000\n",
       "price           1000\n",
       "rating          1000\n",
       "grape           1000\n",
       "dtype: int64"
      ]
     },
     "execution_count": 11,
     "metadata": {},
     "output_type": "execute_result"
    }
   ],
   "source": [
    "reviews_clean.count()"
   ]
  },
  {
   "cell_type": "code",
   "execution_count": 12,
   "metadata": {},
   "outputs": [],
   "source": [
    "reviews_filter = reviews_clean[reviews_clean[\"review\"].isnull() == False]"
   ]
  },
  {
   "cell_type": "code",
   "execution_count": 13,
   "metadata": {},
   "outputs": [
    {
     "data": {
      "text/plain": [
       "vintage_id      973\n",
       "review          973\n",
       "year            973\n",
       "wine_alcohol    501\n",
       "country         973\n",
       "region          973\n",
       "price           973\n",
       "rating          973\n",
       "grape           973\n",
       "dtype: int64"
      ]
     },
     "execution_count": 13,
     "metadata": {},
     "output_type": "execute_result"
    }
   ],
   "source": [
    "reviews_filter.count()"
   ]
  },
  {
   "cell_type": "code",
   "execution_count": null,
   "metadata": {},
   "outputs": [],
   "source": [
    "reviews_filter.to_csv(\"wine_reviews.csv\", index=False)"
   ]
  }
 ],
 "metadata": {
  "kernelspec": {
   "display_name": "base",
   "language": "python",
   "name": "python3"
  },
  "language_info": {
   "codemirror_mode": {
    "name": "ipython",
    "version": 3
   },
   "file_extension": ".py",
   "mimetype": "text/x-python",
   "name": "python",
   "nbconvert_exporter": "python",
   "pygments_lexer": "ipython3",
   "version": "3.10.7"
  }
 },
 "nbformat": 4,
 "nbformat_minor": 2
}
